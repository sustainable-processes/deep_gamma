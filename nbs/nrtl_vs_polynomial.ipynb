{
 "cells": [
  {
   "cell_type": "code",
   "execution_count": 1,
   "metadata": {},
   "outputs": [],
   "source": [
    "import pandas as pd\n",
    "import numpy as np\n",
    "import matplotlib.pyplot as plt\n",
    "from lmfit import minimize, Parameters\n",
    "from lmfit.model import ModelResult\n",
    "from lmfit.models import PolynomialModel\n",
    "from tqdm.auto import tqdm\n",
    "# import ray\n",
    "# from ray.exceptions import GetTimeoutError\n",
    "from rdkit import Chem\n",
    "# import ipywidgets as widgets\n",
    "from IPython.display import display, clear_output\n",
    "from datetime import datetime as dt\n",
    "from pathlib import Path"
   ]
  },
  {
   "cell_type": "code",
   "execution_count": 2,
   "metadata": {},
   "outputs": [],
   "source": [
    "def remove_frame(ax, sides=[\"top\", \"left\", \"right\"]):\n",
    "    \"\"\"Remove the frame of a matplotlib plot\"\"\"\n",
    "    for side in sides:\n",
    "        ax_side = ax.spines[side]\n",
    "        ax_side.set_visible(False)"
   ]
  },
  {
   "cell_type": "code",
   "execution_count": 3,
   "metadata": {},
   "outputs": [],
   "source": [
    "def calculate_activity_coefficients_polynomial(\n",
    "    preds: pd.DataFrame, order=4\n",
    "):\n",
    "    # c1_0 is parameter 1 (zero-indexed) for molecule 1\n",
    "    for i in range(2):\n",
    "        preds[f\"ln_gamma_{i+1}_pred\"] = 0\n",
    "        for j in range(order+1):\n",
    "            x = preds[\"x(1)\"] if i == 0 else 1.0-preds[\"x(1)\"]\n",
    "            preds[f\"ln_gamma_{i+1}_pred\"] += preds[f\"c{j}_{i}\"]*x**j\n",
    "    return preds"
   ]
  },
  {
   "cell_type": "code",
   "execution_count": 4,
   "metadata": {},
   "outputs": [],
   "source": [
    "# NRTL data\n",
    "results_path = Path(\"../data/02_intermediate/cosmo/nrtl_parameters\")\n",
    "assert results_path.exists()\n",
    "files = results_path.glob(\"./batch_*.csv\")\n",
    "files_dummy = [_ for _ in files]\n",
    "files = results_path.glob(\"./batch_*.csv\")\n",
    "nrtl_df = pd.concat([pd.read_csv(file, index_col=0) for file in files])"
   ]
  },
  {
   "cell_type": "code",
   "execution_count": 5,
   "metadata": {},
   "outputs": [],
   "source": [
    "# Polynomial data\n",
    "polynomial_df = pd.read_parquet(\"../data/03_primary/polynomial_good_fit_all.pq\")"
   ]
  },
  {
   "cell_type": "code",
   "execution_count": 6,
   "metadata": {},
   "outputs": [],
   "source": [
    "polynomial_df = calculate_activity_coefficients_polynomial(polynomial_df)"
   ]
  },
  {
   "cell_type": "code",
   "execution_count": 7,
   "metadata": {},
   "outputs": [],
   "source": [
    "for i in [1,2]:\n",
    "    polynomial_df[f\"error_ln_gamma_{i}\"] = (\n",
    "        polynomial_df[f\"ln_gamma_{i}\"] - polynomial_df[f\"ln_gamma_{i}_pred\"]\n",
    "    )\n",
    "    polynomial_df[f\"ln_gamma_{i}_mae\"] = polynomial_df[f\"error_ln_gamma_{i}\"].abs()"
   ]
  },
  {
   "cell_type": "code",
   "execution_count": 13,
   "metadata": {},
   "outputs": [],
   "source": [
    "polynomial_df_compressed = polynomial_df.groupby(\n",
    "    [\"smiles_1\", \"smiles_2\", \"temperature (K)\"]\n",
    ").mean().reset_index()"
   ]
  },
  {
   "cell_type": "code",
   "execution_count": 14,
   "metadata": {},
   "outputs": [
    {
     "data": {
      "text/plain": [
       "Index(['smiles_1', 'smiles_2', 'temperature (K)', 'time', 'alpha_12',\n",
       "       'alpha_21', 'tau_12', 'tau_21', 'ln_gamma_1_mae', 'ln_gamma_2_mae'],\n",
       "      dtype='object')"
      ]
     },
     "execution_count": 14,
     "metadata": {},
     "output_type": "execute_result"
    }
   ],
   "source": [
    "nrtl_df.columns"
   ]
  },
  {
   "cell_type": "code",
   "execution_count": 17,
   "metadata": {},
   "outputs": [
    {
     "data": {
      "image/png": "[encoded data removed]",
      "text/plain": [
       "<Figure size 720x360 with 2 Axes>"
      ]
     },
     "metadata": {
      "needs_background": "light"
     },
     "output_type": "display_data"
    }
   ],
   "source": [
    "import matplotlib.ticker as ticker\n",
    "fig, axes = plt.subplots(1, 2, figsize=(10,5), sharey=True)\n",
    "fig.subplots_adjust(wspace=0.5)\n",
    "colors = [\"#025b66\", \"#b7001e\"]\n",
    "for j, df in enumerate([nrtl_df, polynomial_df_compressed]):\n",
    "    for ax, i in zip(axes, [1,2]):\n",
    "        df[df[f\"ln_gamma_{i}_mae\"]<0.5].hist(\n",
    "            f\"ln_gamma_{i}_mae\",\n",
    "            grid=False, ax=ax,\n",
    "            bins=20, \n",
    "            rwidth=0.9, \n",
    "            color=colors[j],\n",
    "            alpha=0.5\n",
    "        )\n",
    "        ax.grid(axis=\"y\", alpha=0.2)\n",
    "        ax.tick_params(length=0)\n",
    "        ax.set_title(f\"$\\ln \\gamma_{i}$ mean absolute error (MAE)\")\n",
    "        ax.set_xlabel(\"MAE\")\n",
    "        ax.set_ylabel(\"Counts (thousands)\")\n",
    "        ax.yaxis.set_major_formatter(ticker.FuncFormatter(\n",
    "            lambda y, pos: '%.0f' % (y * 1e-3)))\n",
    "        remove_frame(ax)\n",
    "fig.savefig(\"../data/08_reporting/error_distribution_fitting_cosmo.png\", dpi=300)"
   ]
  },
  {
   "cell_type": "code",
   "execution_count": null,
   "metadata": {},
   "outputs": [],
   "source": []
  }
 ],
 "metadata": {
  "kernelspec": {
   "display_name": "DeepGamma",
   "language": "python",
   "name": "deep_gamma"
  },
  "language_info": {
   "codemirror_mode": {
    "name": "ipython",
    "version": 3
   },
   "file_extension": ".py",
   "mimetype": "text/x-python",
   "name": "python",
   "nbconvert_exporter": "python",
   "pygments_lexer": "ipython3",
   "version": "3.7.3"
  }
 },
 "nbformat": 4,
 "nbformat_minor": 4
}
