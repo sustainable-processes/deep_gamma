{
 "cells": [
  {
   "cell_type": "code",
   "execution_count": 24,
   "metadata": {},
   "outputs": [],
   "source": [
    "import pandas as pd\n",
    "import numpy as np\n",
    "import matplotlib.pyplot as plt\n",
    "from lmfit import minimize, Parameters\n",
    "from lmfit.model import ModelResult\n",
    "from lmfit.models import PolynomialModel\n",
    "from tqdm.auto import tqdm\n",
    "# import ray\n",
    "# from ray.exceptions import GetTimeoutError\n",
    "from rdkit import Chem\n",
    "# import ipywidgets as widgets\n",
    "from IPython.display import display, clear_output\n",
    "from datetime import datetime as dt\n",
    "from pathlib import Path"
   ]
  },
  {
   "cell_type": "code",
   "execution_count": 2,
   "metadata": {},
   "outputs": [],
   "source": [
    "def remove_frame(ax, sides=[\"top\", \"left\", \"right\"]):\n",
    "    \"\"\"Remove the frame of a matplotlib plot\"\"\"\n",
    "    for side in sides:\n",
    "        ax_side = ax.spines[side]\n",
    "        ax_side.set_visible(False)"
   ]
  },
  {
   "cell_type": "code",
   "execution_count": 23,
   "metadata": {},
   "outputs": [],
   "source": [
    "def calculate_activity_coefficients_polynomial(\n",
    "    preds: pd.DataFrame, order=4\n",
    "):\n",
    "    # c1_0 is parameter 1 (zero-indexed) for molecule 1\n",
    "    for i in range(2):\n",
    "        preds[f\"ln_gamma_{i+1}_pred\"] = 0\n",
    "        for j in range(order+1):\n",
    "            x = preds[\"x(1)\"] if i == 0 else 1.0-preds[\"x(1)\"]\n",
    "            preds[f\"ln_gamma_{i+1}_pred\"] += preds[f\"c{j}_{i}\"]*x**j\n",
    "    return preds"
   ]
  },
  {
   "cell_type": "code",
   "execution_count": 10,
   "metadata": {},
   "outputs": [],
   "source": [
    "# NRTL data\n",
    "results_path = Path(\"deep_gamma/data/03_primary/nrtl/nrtl_parameters\")\n",
    "assert results_path.exists()\n",
    "files = results_path.glob(\"batch_*.csv\")\n",
    "files_dummy = [_ for _ in files]\n",
    "files = results_path.glob(\"batch_*.csv\")\n",
    "nrtl_df = pd.concat([pd.read_csv(file, index_col=0) for file in files])"
   ]
  },
  {
   "cell_type": "code",
   "execution_count": 18,
   "metadata": {},
   "outputs": [],
   "source": [
    "results_path = Path(\"deep_gamma/data/02_intermediate/cosmo_data.pq\")\n",
    "assert results_path.exists()\n",
    "big_df = pd.read_parquet(results_path)"
   ]
  },
  {
   "cell_type": "code",
   "execution_count": 11,
   "metadata": {},
   "outputs": [],
   "source": [
    "# Polynomial data\n",
    "results_path = Path(\"deep_gamma/data/03_primary/polynomial\")\n",
    "assert results_path.exists()\n",
    "files = results_path.glob(\"batch_*.csv\")\n",
    "files_dummy = [_ for _ in files]\n",
    "files = results_path.glob(\"batch_*.csv\")\n",
    "polynomial_df = pd.concat([pd.read_csv(file, index_col=0) for file in files])"
   ]
  },
  {
   "cell_type": "code",
   "execution_count": 21,
   "metadata": {},
   "outputs": [],
   "source": [
    "polynomial_df = polynomial_df.merge(big_df, on=[\"smiles_1\", \"smiles_2\", \"temperature (K)\"], how='left')"
   ]
  },
  {
   "cell_type": "code",
   "execution_count": 25,
   "metadata": {},
   "outputs": [],
   "source": [
    "polynomial_df = calculate_activity_coefficients_polynomial(polynomial_df)"
   ]
  },
  {
   "cell_type": "code",
   "execution_count": 26,
   "metadata": {},
   "outputs": [],
   "source": [
    "for i in [1,2]:\n",
    "    polynomial_df[f\"error_ln_gamma_{i}\"] = (\n",
    "        polynomial_df[f\"ln_gamma_{i}\"] - polynomial_df[f\"ln_gamma_{i}_pred\"]\n",
    "    )\n",
    "    polynomial_df[f\"ln_gamma_{i}_mae\"] = polynomial_df[f\"error_ln_gamma_{i}\"].abs()"
   ]
  },
  {
   "cell_type": "code",
   "execution_count": 27,
   "metadata": {},
   "outputs": [
    {
     "name": "stderr",
     "output_type": "stream",
     "text": [
      "/tmp/ipykernel_557165/4123848838.py:3: FutureWarning: The default value of numeric_only in DataFrameGroupBy.mean is deprecated. In a future version, numeric_only will default to False. Either specify numeric_only or select only columns which should be valid for the function.\n",
      "  ).mean().reset_index()\n"
     ]
    }
   ],
   "source": [
    "polynomial_df_compressed = polynomial_df.groupby(\n",
    "    [\"smiles_1\", \"smiles_2\", \"temperature (K)\"]\n",
    ").mean().reset_index()"
   ]
  },
  {
   "cell_type": "code",
   "execution_count": 32,
   "metadata": {},
   "outputs": [
    {
     "data": {
      "image/png": "[encoded data removed]",
      "text/plain": [
       "<Figure size 1000x500 with 2 Axes>"
      ]
     },
     "metadata": {},
     "output_type": "display_data"
    }
   ],
   "source": [
    "import matplotlib.ticker as ticker\n",
    "fig, axes = plt.subplots(1, 2, figsize=(10,5), sharey=True)\n",
    "fig.subplots_adjust(wspace=0.5)\n",
    "colors = [\"#025b66\", \"#b7001e\"]\n",
    "names = [\"NRTL\", \"Polynomial\"]\n",
    "for j, df in enumerate([nrtl_df, polynomial_df_compressed]):\n",
    "    for ax, i in zip(axes, [1,2]):\n",
    "        df[df[f\"ln_gamma_{i}_mae\"]<0.5].hist(\n",
    "            f\"ln_gamma_{i}_mae\",\n",
    "            grid=False, ax=ax,\n",
    "            bins=20, \n",
    "            rwidth=0.9, \n",
    "            color=colors[j],\n",
    "            alpha=0.5,\n",
    "            label=names[j]\n",
    "        )\n",
    "        ax.grid(axis=\"y\", alpha=0.2)\n",
    "        ax.tick_params(length=0)\n",
    "        ax.set_title(f\"$\\ln \\gamma_{i}$ mean absolute error (MAE)\")\n",
    "        ax.set_xlabel(\"MAE\")\n",
    "        ax.set_ylabel(\"Counts (thousands)\")\n",
    "        ax.yaxis.set_major_formatter(ticker.FuncFormatter(\n",
    "            lambda y, pos: '%.0f' % (y * 1e-3)))\n",
    "        remove_frame(ax)\n",
    "        ax.legend()\n",
    "fig.savefig(\"deep_gamma/data/08_reporting/error_distribution_fitting_cosmo.png\", dpi=300)"
   ]
  },
  {
   "cell_type": "code",
   "execution_count": null,
   "metadata": {},
   "outputs": [],
   "source": []
  }
 ],
 "metadata": {
  "kernelspec": {
   "display_name": "Python 3",
   "language": "python",
   "name": "python3"
  },
  "language_info": {
   "codemirror_mode": {
    "name": "ipython",
    "version": 3
   },
   "file_extension": ".py",
   "mimetype": "text/x-python",
   "name": "python",
   "nbconvert_exporter": "python",
   "pygments_lexer": "ipython3",
   "version": "3.10.11"
  }
 },
 "nbformat": 4,
 "nbformat_minor": 4
}
